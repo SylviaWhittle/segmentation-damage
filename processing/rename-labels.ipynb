{
 "cells": [
  {
   "cell_type": "code",
   "execution_count": null,
   "metadata": {},
   "outputs": [],
   "source": [
    "from pathlib import Path\n",
    "import numpy as np\n",
    "import matplotlib.pyplot as plt\n",
    "import re\n",
    "import shutil"
   ]
  },
  {
   "cell_type": "code",
   "execution_count": null,
   "metadata": {},
   "outputs": [],
   "source": [
    "base_dir = Path(\"../data-preprocessing/\")\n",
    "assert base_dir.exists()\n",
    "dir_labelled_raw = base_dir / \"raw-masks\"\n",
    "assert dir_labelled_raw.exists()\n",
    "dir_labelled_renamed = base_dir / \"masks-renamed\"\n",
    "dir_labelled_renamed.mkdir(exist_ok=True)\n",
    "\n",
    "files_npy = list(dir_labelled_raw.glob(\"*.npy\"))\n",
    "\n",
    "files = files_npy + files_png\n",
    "print(f\"Found {len(files)} files\")\n",
    "\n",
    "# for each file, rename\n",
    "# files are in format: \"task-54-restofname.npy\"\n",
    "# rename to: \"mask-54.npy\"\n",
    "# we have two masks per task since we have two-class masking. need to combine the masks.\n",
    "\n",
    "class_labels = {\n",
    "    \"grain\": 1,\n",
    "    \"damage\": 2,\n",
    "}\n",
    "allowed_missing_classes = [\"damage\"]\n",
    "shape = (512, 512)\n",
    "\n",
    "unique_task_numbers = set(\n",
    "    int(re.search(r\"task-(\\d+)\", str(file)).group(1)) for file in files\n",
    ")\n",
    "print(unique_task_numbers)\n",
    "minimum_task_number = min(unique_task_numbers)\n",
    "\n",
    "for task_number in unique_task_numbers:\n",
    "    combined_class_mask = np.zeros(shape, dtype=np.uint8)\n",
    "    for class_label, class_number in class_labels.items():\n",
    "        pattern = rf\"task-{task_number}*{class_label}*.npy\"\n",
    "        print(pattern)\n",
    "        class_mask_npy_match = list(dir_labelled_raw.glob(pattern))\n",
    "        if len(class_mask_npy_match) == 0:\n",
    "            if class_label in allowed_missing_classes:\n",
    "                print(f\"Warning: {class_label} mask not found for task {task_number}.\")\n",
    "                continue\n",
    "            else:\n",
    "                raise FileNotFoundError(f\"Mask not found for task {task_number} and class {class_label}.\")\n",
    "\n",
    "        # there are 1 or more class masks for this class, combine them\n",
    "        combined_single_class_mask = np.zeros(shape, dtype=np.uint8)\n",
    "        for mask_path in class_mask_npy_match:\n",
    "            class_mask_npy = np.load(mask_path)\n",
    "            combined_single_class_mask[class_mask_npy > 0] = class_number\n",
    "\n",
    "        # add the class mask to the combined mask\n",
    "        combined_class_mask[combined_single_class_mask > 0] = class_number\n",
    "\n",
    "    # save the combined mask as npy and png\n",
    "    filename_npy = f\"mask-{task_number - minimum_task_number}.npy\"\n",
    "    filename_png = f\"mask-{task_number - minimum_task_number}.png\"\n",
    "    np.save(dir_labelled_renamed / filename_npy, combined_class_mask)\n",
    "    plt.imsave(dir_labelled_renamed / filename_png, combined_class_mask)"
   ]
  }
 ],
 "metadata": {
  "kernelspec": {
   "display_name": "unet",
   "language": "python",
   "name": "python3"
  },
  "language_info": {
   "codemirror_mode": {
    "name": "ipython",
    "version": 3
   },
   "file_extension": ".py",
   "mimetype": "text/x-python",
   "name": "python",
   "nbconvert_exporter": "python",
   "pygments_lexer": "ipython3",
   "version": "3.11.8"
  }
 },
 "nbformat": 4,
 "nbformat_minor": 2
}
